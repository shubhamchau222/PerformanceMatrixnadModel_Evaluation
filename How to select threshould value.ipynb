{
 "cells": [
  {
   "cell_type": "code",
   "execution_count": 142,
   "metadata": {},
   "outputs": [],
   "source": [
    "from sklearn.datasets import make_classification\n",
    "from sklearn.model_selection import train_test_split\n",
    "import pandas as pd \n",
    "from  sklearn.metrics import roc_curve , roc_auc_score  , accuracy_score\n",
    "import numpy as np\n",
    "import matplotlib.pyplot as plt \n",
    "%matplotlib inline "
   ]
  },
  {
   "cell_type": "code",
   "execution_count": 33,
   "metadata": {},
   "outputs": [
    {
     "data": {
      "text/html": [
       "<div>\n",
       "<style scoped>\n",
       "    .dataframe tbody tr th:only-of-type {\n",
       "        vertical-align: middle;\n",
       "    }\n",
       "\n",
       "    .dataframe tbody tr th {\n",
       "        vertical-align: top;\n",
       "    }\n",
       "\n",
       "    .dataframe thead th {\n",
       "        text-align: right;\n",
       "    }\n",
       "</style>\n",
       "<table border=\"1\" class=\"dataframe\">\n",
       "  <thead>\n",
       "    <tr style=\"text-align: right;\">\n",
       "      <th></th>\n",
       "      <th>0</th>\n",
       "      <th>0</th>\n",
       "      <th>1</th>\n",
       "      <th>2</th>\n",
       "      <th>3</th>\n",
       "      <th>4</th>\n",
       "      <th>5</th>\n",
       "      <th>6</th>\n",
       "      <th>7</th>\n",
       "      <th>8</th>\n",
       "      <th>...</th>\n",
       "      <th>10</th>\n",
       "      <th>11</th>\n",
       "      <th>12</th>\n",
       "      <th>13</th>\n",
       "      <th>14</th>\n",
       "      <th>15</th>\n",
       "      <th>16</th>\n",
       "      <th>17</th>\n",
       "      <th>18</th>\n",
       "      <th>19</th>\n",
       "    </tr>\n",
       "  </thead>\n",
       "  <tbody>\n",
       "    <tr>\n",
       "      <td>0</td>\n",
       "      <td>0</td>\n",
       "      <td>-0.620707</td>\n",
       "      <td>1.397695</td>\n",
       "      <td>0.103500</td>\n",
       "      <td>1.385401</td>\n",
       "      <td>-1.237295</td>\n",
       "      <td>1.082837</td>\n",
       "      <td>-1.654283</td>\n",
       "      <td>0.469496</td>\n",
       "      <td>-2.237462</td>\n",
       "      <td>...</td>\n",
       "      <td>0.464746</td>\n",
       "      <td>1.219494</td>\n",
       "      <td>-0.352217</td>\n",
       "      <td>-0.125903</td>\n",
       "      <td>0.290083</td>\n",
       "      <td>-1.039296</td>\n",
       "      <td>-2.368741</td>\n",
       "      <td>-0.344097</td>\n",
       "      <td>0.621977</td>\n",
       "      <td>-1.796452</td>\n",
       "    </tr>\n",
       "    <tr>\n",
       "      <td>1</td>\n",
       "      <td>0</td>\n",
       "      <td>0.905922</td>\n",
       "      <td>1.919975</td>\n",
       "      <td>-0.778371</td>\n",
       "      <td>-0.469019</td>\n",
       "      <td>-0.873620</td>\n",
       "      <td>0.851336</td>\n",
       "      <td>-1.610496</td>\n",
       "      <td>0.050766</td>\n",
       "      <td>-1.835619</td>\n",
       "      <td>...</td>\n",
       "      <td>-0.161161</td>\n",
       "      <td>-1.503319</td>\n",
       "      <td>1.460787</td>\n",
       "      <td>-2.526710</td>\n",
       "      <td>0.759508</td>\n",
       "      <td>0.624567</td>\n",
       "      <td>0.909121</td>\n",
       "      <td>-1.305605</td>\n",
       "      <td>-1.544768</td>\n",
       "      <td>-0.245321</td>\n",
       "    </tr>\n",
       "    <tr>\n",
       "      <td>2</td>\n",
       "      <td>0</td>\n",
       "      <td>0.279021</td>\n",
       "      <td>0.858877</td>\n",
       "      <td>1.207804</td>\n",
       "      <td>-0.407990</td>\n",
       "      <td>0.576524</td>\n",
       "      <td>0.161764</td>\n",
       "      <td>2.476267</td>\n",
       "      <td>0.548488</td>\n",
       "      <td>1.741693</td>\n",
       "      <td>...</td>\n",
       "      <td>-0.340703</td>\n",
       "      <td>0.984317</td>\n",
       "      <td>-0.536602</td>\n",
       "      <td>-1.481537</td>\n",
       "      <td>-0.739435</td>\n",
       "      <td>2.273652</td>\n",
       "      <td>-0.438341</td>\n",
       "      <td>2.503744</td>\n",
       "      <td>-0.164972</td>\n",
       "      <td>-1.959120</td>\n",
       "    </tr>\n",
       "    <tr>\n",
       "      <td>3</td>\n",
       "      <td>0</td>\n",
       "      <td>-0.478707</td>\n",
       "      <td>-0.429668</td>\n",
       "      <td>-0.033423</td>\n",
       "      <td>0.189242</td>\n",
       "      <td>-0.667354</td>\n",
       "      <td>0.188200</td>\n",
       "      <td>-0.858144</td>\n",
       "      <td>0.202080</td>\n",
       "      <td>-1.253419</td>\n",
       "      <td>...</td>\n",
       "      <td>-1.844374</td>\n",
       "      <td>2.003561</td>\n",
       "      <td>0.648372</td>\n",
       "      <td>-1.741756</td>\n",
       "      <td>0.390216</td>\n",
       "      <td>0.940185</td>\n",
       "      <td>-1.701484</td>\n",
       "      <td>0.035345</td>\n",
       "      <td>0.558878</td>\n",
       "      <td>-0.782533</td>\n",
       "    </tr>\n",
       "    <tr>\n",
       "      <td>4</td>\n",
       "      <td>1</td>\n",
       "      <td>-0.011143</td>\n",
       "      <td>0.108412</td>\n",
       "      <td>0.207492</td>\n",
       "      <td>-0.600344</td>\n",
       "      <td>-0.113856</td>\n",
       "      <td>0.842601</td>\n",
       "      <td>0.870606</td>\n",
       "      <td>-0.337324</td>\n",
       "      <td>-0.552636</td>\n",
       "      <td>...</td>\n",
       "      <td>0.547527</td>\n",
       "      <td>0.452704</td>\n",
       "      <td>-0.223528</td>\n",
       "      <td>0.383770</td>\n",
       "      <td>-1.308889</td>\n",
       "      <td>0.172448</td>\n",
       "      <td>-1.965578</td>\n",
       "      <td>1.346155</td>\n",
       "      <td>1.006522</td>\n",
       "      <td>1.221489</td>\n",
       "    </tr>\n",
       "  </tbody>\n",
       "</table>\n",
       "<p>5 rows × 21 columns</p>\n",
       "</div>"
      ],
      "text/plain": [
       "   0         0         1         2         3         4         5         6   \\\n",
       "0   0 -0.620707  1.397695  0.103500  1.385401 -1.237295  1.082837 -1.654283   \n",
       "1   0  0.905922  1.919975 -0.778371 -0.469019 -0.873620  0.851336 -1.610496   \n",
       "2   0  0.279021  0.858877  1.207804 -0.407990  0.576524  0.161764  2.476267   \n",
       "3   0 -0.478707 -0.429668 -0.033423  0.189242 -0.667354  0.188200 -0.858144   \n",
       "4   1 -0.011143  0.108412  0.207492 -0.600344 -0.113856  0.842601  0.870606   \n",
       "\n",
       "         7         8   ...        10        11        12        13        14  \\\n",
       "0  0.469496 -2.237462  ...  0.464746  1.219494 -0.352217 -0.125903  0.290083   \n",
       "1  0.050766 -1.835619  ... -0.161161 -1.503319  1.460787 -2.526710  0.759508   \n",
       "2  0.548488  1.741693  ... -0.340703  0.984317 -0.536602 -1.481537 -0.739435   \n",
       "3  0.202080 -1.253419  ... -1.844374  2.003561  0.648372 -1.741756  0.390216   \n",
       "4 -0.337324 -0.552636  ...  0.547527  0.452704 -0.223528  0.383770 -1.308889   \n",
       "\n",
       "         15        16        17        18        19  \n",
       "0 -1.039296 -2.368741 -0.344097  0.621977 -1.796452  \n",
       "1  0.624567  0.909121 -1.305605 -1.544768 -0.245321  \n",
       "2  2.273652 -0.438341  2.503744 -0.164972 -1.959120  \n",
       "3  0.940185 -1.701484  0.035345  0.558878 -0.782533  \n",
       "4  0.172448 -1.965578  1.346155  1.006522  1.221489  \n",
       "\n",
       "[5 rows x 21 columns]"
      ]
     },
     "execution_count": 33,
     "metadata": {},
     "output_type": "execute_result"
    }
   ],
   "source": [
    "# creating the dataset \n",
    "x ,y = make_classification(n_samples=2000, n_features=20,   n_classes=2 , weights=[1,1] , random_state=1)\n",
    "df2  = pd.DataFrame(x)\n",
    "df1 =  pd.DataFrame(y)\n",
    "df = pd.concat([df1 ,df2] , axis=1)\n",
    "df.head()"
   ]
  },
  {
   "cell_type": "code",
   "execution_count": 34,
   "metadata": {},
   "outputs": [
    {
     "data": {
      "text/plain": [
       "(2000, 21)"
      ]
     },
     "execution_count": 34,
     "metadata": {},
     "output_type": "execute_result"
    }
   ],
   "source": [
    "df.shape"
   ]
  },
  {
   "cell_type": "code",
   "execution_count": 79,
   "metadata": {},
   "outputs": [
    {
     "name": "stdout",
     "output_type": "stream",
     "text": [
      "y_train.shape =  (1500,)\n",
      "x_train.shape =  (1500, 20)\n",
      "x_test.shape =  (500, 20)\n",
      "y_test.shape =  (500,)\n"
     ]
    }
   ],
   "source": [
    "# splitting the data \n",
    "x_train , x_test  , y_train ,y_test = train_test_split(x,y , test_size = 0.25 , random_state = 10)\n",
    "print(\"y_train.shape = \" ,  y_train.shape)\n",
    "print(\"x_train.shape = \" ,  x_train.shape)\n",
    "print(\"x_test.shape = \" ,  x_test.shape)\n",
    "print(\"y_test.shape = \" ,  y_test.shape)"
   ]
  },
  {
   "cell_type": "markdown",
   "metadata": {},
   "source": [
    "##### LogisticRegression"
   ]
  },
  {
   "cell_type": "code",
   "execution_count": 80,
   "metadata": {},
   "outputs": [
    {
     "name": "stdout",
     "output_type": "stream",
     "text": [
      "Lo_ reg  train roc auc : =  0.9880384393536947\n",
      "Log_reg test  roc auc : =  0.9827717171717173\n"
     ]
    },
    {
     "name": "stderr",
     "output_type": "stream",
     "text": [
      "C:\\ProgramData\\Anaconda3\\lib\\site-packages\\sklearn\\linear_model\\logistic.py:432: FutureWarning: Default solver will be changed to 'lbfgs' in 0.22. Specify a solver to silence this warning.\n",
      "  FutureWarning)\n"
     ]
    }
   ],
   "source": [
    " # logistic regression \n",
    "from sklearn.linear_model import LogisticRegression\n",
    "lr_model = LogisticRegression()\n",
    "lr_model.fit(x_train , y_train)\n",
    "ytrain_pred = lr_model.predict_proba(x_train)\n",
    "print(\"Lo_ reg  train roc auc : = \", roc_auc_score(y_train , ytrain_pred[ : , 1 ]))\n",
    "ytest_pred = lr_model.predict_proba(x_test) # on unseen data     \n",
    "print(\"Log_reg test  roc auc : = \", roc_auc_score(y_test , ytest_pred[ : , 1 ]))\n",
    "    "
   ]
  },
  {
   "cell_type": "markdown",
   "metadata": {},
   "source": [
    "#####  RandomForestClassifier"
   ]
  },
  {
   "cell_type": "code",
   "execution_count": 81,
   "metadata": {},
   "outputs": [
    {
     "name": "stdout",
     "output_type": "stream",
     "text": [
      "rf_model train roc auc : =  0.999954603393886\n",
      "rf_model test  roc auc : =  0.9856323232323232\n"
     ]
    },
    {
     "name": "stderr",
     "output_type": "stream",
     "text": [
      "C:\\ProgramData\\Anaconda3\\lib\\site-packages\\sklearn\\ensemble\\forest.py:245: FutureWarning: The default value of n_estimators will change from 10 in version 0.20 to 100 in 0.22.\n",
      "  \"10 in version 0.20 to 100 in 0.22.\", FutureWarning)\n"
     ]
    }
   ],
   "source": [
    "from sklearn.ensemble import RandomForestClassifier\n",
    "rf_model = RandomForestClassifier()\n",
    "rf_model.fit(x_train , y_train)\n",
    "ytrain_pred = rf_model.predict_proba(x_train)\n",
    "print(\"rf_model train roc auc : = \", roc_auc_score(y_train , ytrain_pred[ : , 1 ]))\n",
    "ytest_pred = rf_model.predict_proba(x_test) # on unseen data     \n",
    "print(\"rf_model test  roc auc : = \", roc_auc_score(y_test , ytest_pred[ : , 1 ]))\n"
   ]
  },
  {
   "cell_type": "markdown",
   "metadata": {},
   "source": [
    "##### AdaBoostClassifier"
   ]
  },
  {
   "cell_type": "code",
   "execution_count": 82,
   "metadata": {},
   "outputs": [
    {
     "name": "stdout",
     "output_type": "stream",
     "text": [
      "ada_model train roc auc : =  0.9971097494107343\n",
      "ada_model test  roc auc : =  0.9821737373737374\n"
     ]
    }
   ],
   "source": [
    "from sklearn.ensemble import AdaBoostClassifier\n",
    "ada_model = AdaBoostClassifier()\n",
    "ada_model.fit(x_train , y_train)\n",
    "ytrain_pred = ada_model.predict_proba(x_train)\n",
    "print(\"ada_model train roc auc : = \", roc_auc_score(y_train , ytrain_pred[ : , 1 ]))\n",
    "ytest_pred = ada_model.predict_proba(x_test) # on unseen data     \n",
    "print(\"ada_model test  roc auc : = \", roc_auc_score(y_test , ytest_pred[ : , 1 ]))"
   ]
  },
  {
   "cell_type": "markdown",
   "metadata": {},
   "source": [
    "##### KNeighborsClassifier"
   ]
  },
  {
   "cell_type": "code",
   "execution_count": 83,
   "metadata": {},
   "outputs": [
    {
     "name": "stdout",
     "output_type": "stream",
     "text": [
      "knn_model train roc auc : =  0.9755490318951214\n",
      "knn_model test  roc auc : =  0.9474909090909092\n"
     ]
    }
   ],
   "source": [
    "from sklearn.neighbors import KNeighborsClassifier\n",
    "knn_model = KNeighborsClassifier()\n",
    "knn_model.fit(x_train , y_train)\n",
    "ytrain_pred = knn_model.predict_proba(x_train)\n",
    "print(\"knn_model train roc auc : = \", roc_auc_score(y_train , ytrain_pred[ : , 1 ]))\n",
    "ytest_pred = knn_model.predict_proba(x_test) # on unseen data     \n",
    "print(\"knn_model test  roc auc : = \", roc_auc_score(y_test , ytest_pred[ : , 1 ]))"
   ]
  },
  {
   "cell_type": "markdown",
   "metadata": {},
   "source": [
    "## steps to to select the best threshould in order to get the maximum accuracy "
   ]
  },
  {
   "cell_type": "markdown",
   "metadata": {},
   "source": [
    "###  take the mean of all model predection_probability & find out the mean () of it"
   ]
  },
  {
   "cell_type": "code",
   "execution_count": 88,
   "metadata": {},
   "outputs": [
    {
     "name": "stdout",
     "output_type": "stream",
     "text": [
      " final_prediction roc auc : =  0.983579797979798\n"
     ]
    }
   ],
   "source": [
    "pred = [ ]\n",
    "for model in [lr_model ,rf_model , ada_model, knn_model]:\n",
    "    # here we append the prediction result of each model to the pred list in form of pd.series \n",
    "    pred.append(pd.Series(model.predict_proba(x_test )[: , 1]))\n",
    "    \n",
    "# final_prediction is the mean() of the all prediction results from the pred[] list \n",
    "final_prediction = pd.concat(pred , axis=1).mean(axis = 1)\n",
    "print(\" final_prediction roc auc : = \", roc_auc_score(y_test , final_prediction))"
   ]
  },
  {
   "cell_type": "code",
   "execution_count": 89,
   "metadata": {},
   "outputs": [
    {
     "data": {
      "text/html": [
       "<div>\n",
       "<style scoped>\n",
       "    .dataframe tbody tr th:only-of-type {\n",
       "        vertical-align: middle;\n",
       "    }\n",
       "\n",
       "    .dataframe tbody tr th {\n",
       "        vertical-align: top;\n",
       "    }\n",
       "\n",
       "    .dataframe thead th {\n",
       "        text-align: right;\n",
       "    }\n",
       "</style>\n",
       "<table border=\"1\" class=\"dataframe\">\n",
       "  <thead>\n",
       "    <tr style=\"text-align: right;\">\n",
       "      <th></th>\n",
       "      <th>0</th>\n",
       "      <th>1</th>\n",
       "      <th>2</th>\n",
       "      <th>3</th>\n",
       "    </tr>\n",
       "  </thead>\n",
       "  <tbody>\n",
       "    <tr>\n",
       "      <td>0</td>\n",
       "      <td>0.000011</td>\n",
       "      <td>0.0</td>\n",
       "      <td>0.428506</td>\n",
       "      <td>0.0</td>\n",
       "    </tr>\n",
       "    <tr>\n",
       "      <td>1</td>\n",
       "      <td>0.711099</td>\n",
       "      <td>0.7</td>\n",
       "      <td>0.500739</td>\n",
       "      <td>0.8</td>\n",
       "    </tr>\n",
       "    <tr>\n",
       "      <td>2</td>\n",
       "      <td>0.997832</td>\n",
       "      <td>1.0</td>\n",
       "      <td>0.524887</td>\n",
       "      <td>1.0</td>\n",
       "    </tr>\n",
       "    <tr>\n",
       "      <td>3</td>\n",
       "      <td>0.979720</td>\n",
       "      <td>1.0</td>\n",
       "      <td>0.534710</td>\n",
       "      <td>0.8</td>\n",
       "    </tr>\n",
       "    <tr>\n",
       "      <td>4</td>\n",
       "      <td>0.650700</td>\n",
       "      <td>0.7</td>\n",
       "      <td>0.503040</td>\n",
       "      <td>0.4</td>\n",
       "    </tr>\n",
       "    <tr>\n",
       "      <td>...</td>\n",
       "      <td>...</td>\n",
       "      <td>...</td>\n",
       "      <td>...</td>\n",
       "      <td>...</td>\n",
       "    </tr>\n",
       "    <tr>\n",
       "      <td>495</td>\n",
       "      <td>0.000339</td>\n",
       "      <td>0.1</td>\n",
       "      <td>0.450674</td>\n",
       "      <td>0.0</td>\n",
       "    </tr>\n",
       "    <tr>\n",
       "      <td>496</td>\n",
       "      <td>0.991213</td>\n",
       "      <td>1.0</td>\n",
       "      <td>0.532162</td>\n",
       "      <td>0.8</td>\n",
       "    </tr>\n",
       "    <tr>\n",
       "      <td>497</td>\n",
       "      <td>0.000349</td>\n",
       "      <td>0.0</td>\n",
       "      <td>0.445763</td>\n",
       "      <td>0.0</td>\n",
       "    </tr>\n",
       "    <tr>\n",
       "      <td>498</td>\n",
       "      <td>0.911987</td>\n",
       "      <td>0.7</td>\n",
       "      <td>0.510958</td>\n",
       "      <td>0.6</td>\n",
       "    </tr>\n",
       "    <tr>\n",
       "      <td>499</td>\n",
       "      <td>0.945156</td>\n",
       "      <td>0.8</td>\n",
       "      <td>0.526859</td>\n",
       "      <td>0.6</td>\n",
       "    </tr>\n",
       "  </tbody>\n",
       "</table>\n",
       "<p>500 rows × 4 columns</p>\n",
       "</div>"
      ],
      "text/plain": [
       "            0    1         2    3\n",
       "0    0.000011  0.0  0.428506  0.0\n",
       "1    0.711099  0.7  0.500739  0.8\n",
       "2    0.997832  1.0  0.524887  1.0\n",
       "3    0.979720  1.0  0.534710  0.8\n",
       "4    0.650700  0.7  0.503040  0.4\n",
       "..        ...  ...       ...  ...\n",
       "495  0.000339  0.1  0.450674  0.0\n",
       "496  0.991213  1.0  0.532162  0.8\n",
       "497  0.000349  0.0  0.445763  0.0\n",
       "498  0.911987  0.7  0.510958  0.6\n",
       "499  0.945156  0.8  0.526859  0.6\n",
       "\n",
       "[500 rows x 4 columns]"
      ]
     },
     "execution_count": 89,
     "metadata": {},
     "output_type": "execute_result"
    }
   ],
   "source": [
    "pd.concat(pred , axis=1)"
   ]
  },
  {
   "cell_type": "markdown",
   "metadata": {},
   "source": [
    "##### calculate the roc_curve  "
   ]
  },
  {
   "cell_type": "code",
   "execution_count": 124,
   "metadata": {},
   "outputs": [
    {
     "data": {
      "text/plain": [
       "array([1.92545242, 0.92545242, 0.87031109, 0.86725291, 0.86245997,\n",
       "       0.8604813 , 0.85778625, 0.85766875, 0.80332552, 0.79957495,\n",
       "       0.79307056, 0.79240116, 0.67795952, 0.67490432, 0.63511941,\n",
       "       0.62507368, 0.61549956, 0.61445815, 0.56343504, 0.45774483,\n",
       "       0.44217189, 0.43345728, 0.43125021, 0.42511301, 0.42155789,\n",
       "       0.16887853, 0.16878903, 0.11091469, 0.11080059, 0.10142068])"
      ]
     },
     "execution_count": 124,
     "metadata": {},
     "output_type": "execute_result"
    }
   ],
   "source": [
    "fpr , tpr , thresholds = roc_curve (y_test , np.array (final_prediction) )\n",
    "# this will gives the three values (array)\n",
    "# fpr  - false positive rate \n",
    "# tpr - true positive rate\n",
    "# threshould \n",
    "thresholds"
   ]
  },
  {
   "cell_type": "code",
   "execution_count": 143,
   "metadata": {},
   "outputs": [
    {
     "data": {
      "text/plain": [
       "array([0.        , 0.        , 0.        , 0.00363636, 0.00363636,\n",
       "       0.00727273, 0.00727273, 0.01090909, 0.01090909, 0.01454545,\n",
       "       0.01454545, 0.01818182, 0.01818182, 0.02181818, 0.02181818,\n",
       "       0.02545455, 0.02545455, 0.02909091, 0.02909091, 0.05090909,\n",
       "       0.05090909, 0.05818182, 0.05818182, 0.06545455, 0.06545455,\n",
       "       0.42181818, 0.42181818, 0.90181818, 0.90181818, 1.        ])"
      ]
     },
     "execution_count": 143,
     "metadata": {},
     "output_type": "execute_result"
    }
   ],
   "source": [
    "fpr"
   ]
  },
  {
   "cell_type": "code",
   "execution_count": 144,
   "metadata": {},
   "outputs": [
    {
     "data": {
      "text/plain": [
       "array([0.        , 0.00444444, 0.32      , 0.32      , 0.33777778,\n",
       "       0.33777778, 0.36      , 0.36      , 0.64888889, 0.64888889,\n",
       "       0.67555556, 0.67555556, 0.92      , 0.92      , 0.95555556,\n",
       "       0.95555556, 0.96444444, 0.96444444, 0.97333333, 0.97333333,\n",
       "       0.97777778, 0.97777778, 0.98222222, 0.98222222, 0.99111111,\n",
       "       0.99111111, 0.99555556, 0.99555556, 1.        , 1.        ])"
      ]
     },
     "execution_count": 144,
     "metadata": {},
     "output_type": "execute_result"
    }
   ],
   "source": [
    "tpr"
   ]
  },
  {
   "cell_type": "code",
   "execution_count": 145,
   "metadata": {},
   "outputs": [
    {
     "data": {
      "text/plain": [
       "array([1.92545242, 0.92545242, 0.87031109, 0.86725291, 0.86245997,\n",
       "       0.8604813 , 0.85778625, 0.85766875, 0.80332552, 0.79957495,\n",
       "       0.79307056, 0.79240116, 0.67795952, 0.67490432, 0.63511941,\n",
       "       0.62507368, 0.61549956, 0.61445815, 0.56343504, 0.45774483,\n",
       "       0.44217189, 0.43345728, 0.43125021, 0.42511301, 0.42155789,\n",
       "       0.16887853, 0.16878903, 0.11091469, 0.11080059, 0.10142068])"
      ]
     },
     "execution_count": 145,
     "metadata": {},
     "output_type": "execute_result"
    }
   ],
   "source": [
    "thresholds"
   ]
  },
  {
   "cell_type": "markdown",
   "metadata": {},
   "source": [
    "###### here we wil try to check the accuracy score for the each threshould value "
   ]
  },
  {
   "cell_type": "code",
   "execution_count": 114,
   "metadata": {},
   "outputs": [],
   "source": [
    "accuracy_list  = []\n",
    "for threshold in thresholds : \n",
    "    y_pred = np.where(final_prediction > threshold , 1 ,0)\n",
    "    # where the final prediction is greater than the threshould value convert it as 1 (One) , else o \"Zero\"\n",
    "    accuracy_list.append(accuracy_score(y_test , y_pred))    "
   ]
  },
  {
   "cell_type": "code",
   "execution_count": 141,
   "metadata": {},
   "outputs": [
    {
     "data": {
      "text/html": [
       "<div>\n",
       "<style scoped>\n",
       "    .dataframe tbody tr th:only-of-type {\n",
       "        vertical-align: middle;\n",
       "    }\n",
       "\n",
       "    .dataframe tbody tr th {\n",
       "        vertical-align: top;\n",
       "    }\n",
       "\n",
       "    .dataframe thead th {\n",
       "        text-align: right;\n",
       "    }\n",
       "</style>\n",
       "<table border=\"1\" class=\"dataframe\">\n",
       "  <thead>\n",
       "    <tr style=\"text-align: right;\">\n",
       "      <th></th>\n",
       "      <th>accuracy</th>\n",
       "      <th>threshold</th>\n",
       "    </tr>\n",
       "  </thead>\n",
       "  <tbody>\n",
       "    <tr>\n",
       "      <td>18</td>\n",
       "      <td>0.970</td>\n",
       "      <td>0.563435</td>\n",
       "    </tr>\n",
       "    <tr>\n",
       "      <td>17</td>\n",
       "      <td>0.970</td>\n",
       "      <td>0.614458</td>\n",
       "    </tr>\n",
       "    <tr>\n",
       "      <td>15</td>\n",
       "      <td>0.968</td>\n",
       "      <td>0.625074</td>\n",
       "    </tr>\n",
       "    <tr>\n",
       "      <td>16</td>\n",
       "      <td>0.968</td>\n",
       "      <td>0.615500</td>\n",
       "    </tr>\n",
       "    <tr>\n",
       "      <td>14</td>\n",
       "      <td>0.966</td>\n",
       "      <td>0.635119</td>\n",
       "    </tr>\n",
       "  </tbody>\n",
       "</table>\n",
       "</div>"
      ],
      "text/plain": [
       "    accuracy  threshold\n",
       "18     0.970   0.563435\n",
       "17     0.970   0.614458\n",
       "15     0.968   0.625074\n",
       "16     0.968   0.615500\n",
       "14     0.966   0.635119"
      ]
     },
     "execution_count": 141,
     "metadata": {},
     "output_type": "execute_result"
    }
   ],
   "source": [
    "# converting the accuracy list and their respective threshould to the DataFrame , in order to analyse it in bettter manner \n",
    "accuracy_df = pd.concat([pd.Series(accuracy_list) , pd.Series(thresholds)] , axis=1 )\n",
    "accuracy_df.columns = [\"accuracy\", \"threshold\"]\n",
    "accuracy_df.sort_values(by = \"accuracy\" , ascending = False , inplace = True)\n",
    "accuracy_df.head()\n",
    "# so here we are getting high accuracy at the threshold = 0.563435\n",
    "# so we can selext threshould = 0.563435"
   ]
  },
  {
   "cell_type": "code",
   "execution_count": 151,
   "metadata": {},
   "outputs": [],
   "source": [
    "def plot_roc_curve(fpr , tpr):\n",
    "    plt.plot(fpr, tpr , color =\"red\" , label = \"ROC\")\n",
    "    plt.plot([0,1] , [0,1] , color = \"blue\" , linestyle = \"--\")\n",
    "    plt.xlabel(\"False Positive Rate\")\n",
    "    plt.ylabel(\"True Positive Rate\")\n",
    "    plt.title(\"Receiver Operating Characterstic (ROC) Curve\") \n",
    "    plt.show()"
   ]
  },
  {
   "cell_type": "code",
   "execution_count": 152,
   "metadata": {},
   "outputs": [
    {
     "data": {
      "image/png": "[encoded data removed]",
      "text/plain": [
       "<Figure size 432x288 with 1 Axes>"
      ]
     },
     "metadata": {
      "needs_background": "light"
     },
     "output_type": "display_data"
    }
   ],
   "source": [
    "plot_roc_curve(fpr , tpr)"
   ]
  },
  {
   "cell_type": "markdown",
   "metadata": {},
   "source": [
    "######  In above graph maximum area is covered by the curve , so we can say that threshould we have selected is good "
   ]
  },
  {
   "cell_type": "code",
   "execution_count": null,
   "metadata": {},
   "outputs": [],
   "source": []
  }
 ],
 "metadata": {
  "kernelspec": {
   "display_name": "Python 3",
   "language": "python",
   "name": "python3"
  },
  "language_info": {
   "codemirror_mode": {
    "name": "ipython",
    "version": 3
   },
   "file_extension": ".py",
   "mimetype": "text/x-python",
   "name": "python",
   "nbconvert_exporter": "python",
   "pygments_lexer": "ipython3",
   "version": "3.7.4"
  },
  "toc": {
   "base_numbering": 1,
   "nav_menu": {},
   "number_sections": true,
   "sideBar": true,
   "skip_h1_title": false,
   "title_cell": "Table of Contents",
   "title_sidebar": "Contents",
   "toc_cell": false,
   "toc_position": {},
   "toc_section_display": true,
   "toc_window_display": false
  }
 },
 "nbformat": 4,
 "nbformat_minor": 2
}
